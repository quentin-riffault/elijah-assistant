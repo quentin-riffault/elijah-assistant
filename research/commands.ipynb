{
 "cells": [
  {
   "cell_type": "markdown",
   "metadata": {},
   "source": [
    "# Find the correct action according to text query (command)\n",
    "\n",
    "Our issue is to find an action that is coherent with a command that is given to the model. How to find a correct answer ? Let's take the example of Alexa. Alexa probably uses a neural-network model in order to get a coherent response. This can work with huge neural networks on cloud-driven architectures. However, on a simpler architecture, it may seem harder to do so. \n"
   ]
  },
  {
   "cell_type": "markdown",
   "metadata": {
    "tags": []
   },
   "source": [
    "\n",
    "## Method: Incremental database learning\n",
    "\n",
    "This method uses a command database in order to find the adequate answer. The user will give a command string to the model and the model will have to answer. If the answer is not what the user wants, then the user associates an action to his command and the database is updated.\n",
    "\n",
    "![](commands-doc/IDL-flow1.svg)\n",
    "\n",
    "### Query preprocessing\n",
    "\n",
    "The goal here is to clean the query from unnecessary words (such as articles)."
   ]
  },
  {
   "cell_type": "code",
   "execution_count": 1,
   "metadata": {},
   "outputs": [
    {
     "name": "stdout",
     "output_type": "stream",
     "text": [
      "['éteins', 'télévision']\n"
     ]
    }
   ],
   "source": [
    "import time\n",
    "\n",
    "def remove_punctuation_and_cap(query: str) -> str:\n",
    "    return query.replace(\",\", \"\").replace(\".\", \"\").lower()\n",
    "            \n",
    "def remove_stopwords(query: str, words: set) -> list:\n",
    "    processed_list = list()\n",
    "    \n",
    "    for word in query.split():\n",
    "        if word not in words:\n",
    "            processed_list.append(word)\n",
    "            \n",
    "    return processed_list\n",
    "\n",
    "def prepare_query(query: str, words: set) -> list:\n",
    "    \n",
    "    start = time.time()\n",
    "\n",
    "    query = remove_punctuation_and_cap(query)\n",
    "            \n",
    "    return remove_stopwords(query, words)\n",
    "\n",
    "print(prepare_query(\"le elijah, éteins la télévision le le\", [\"elijah\", \"la\", \"le\", \"cette\"]))"
   ]
  },
  {
   "cell_type": "markdown",
   "metadata": {},
   "source": [
    "## How to modelize the data ?\n",
    "\n",
    "### Naive representation\n",
    "\n",
    "The data could be modelized as a word list from a query and as a response string. These word lists would be hashed in order to be stored. The hash should have low-dispersion in order for queries to be close to each other when they share the same semantics\n",
    "\n",
    "![](commands-doc/data-storage.svg)\n",
    "\n",
    "### Vectorizing the words\n",
    "\n",
    "Another solution would be to vectorize the words before. With this, we could be able to classify words, which would be quite useful. Classes would represent the answer that the model would give to the user. Thanks to this classification, we could say \"This vector has xx% of chances to match the question\". Database selection could be done with the distance to the barycenter of the topics.\n",
    "\n",
    "![](commands-doc/data-storage2.svg)"
   ]
  },
  {
   "cell_type": "markdown",
   "metadata": {
    "tags": []
   },
   "source": [
    "## Searching\n",
    "\n",
    "### Naive search\n",
    "\n",
    "The easiest version should be to compare query hashes. This is easy to implement but quite inefficient with highly-changing commands. As a consequence, using this search method is not advised as the user would have to put a lot of different commands' aliases when the model could guess what the user wants.\n",
    "\n",
    "### Vector-based search\n",
    "\n",
    "The challenge here is to give a value to each word in order to build a vector. This said vector is going to be transformed in a scalar value with a barycenter computation.\n",
    "\n",
    "#### Naive method\n",
    "\n",
    "We keep each word in memory and assign a random weight to them. When a vector is computed, we look in this table. Consistency is then kept, however, we can't be sure that it is going to be coherent and efficient, especially with new values..."
   ]
  },
  {
   "cell_type": "markdown",
   "metadata": {
    "tags": []
   },
   "source": [
    "##### Implementation\n",
    "\n",
    "Those values must be initialized for the words below"
   ]
  },
  {
   "cell_type": "code",
   "execution_count": 2,
   "metadata": {},
   "outputs": [],
   "source": [
    "import random\n",
    "import numpy as np\n",
    "\n",
    "barycenter_list = list()\n",
    "word_map = dict() # map < String, int >\n",
    "\n",
    "known_words = set([\"télévision\", \"allumer\", \"éteindre\"])\n",
    "\n",
    "max_range = 200\n",
    "\n",
    "for word in known_words:\n",
    "    word_map[word] = (random.randrange(-max_range, max_range))/max_range"
   ]
  },
  {
   "cell_type": "markdown",
   "metadata": {
    "tags": []
   },
   "source": [
    "##### Computation"
   ]
  },
  {
   "cell_type": "code",
   "execution_count": 3,
   "metadata": {},
   "outputs": [
    {
     "name": "stdout",
     "output_type": "stream",
     "text": [
      "0.52\n",
      "-0.29\n"
     ]
    }
   ],
   "source": [
    "def valuation(word : str) -> float:\n",
    "    if word in word_map:\n",
    "        return word_map[word]\n",
    "    word_map[word] = (random.randrange(-max_range, max_range))/max_range\n",
    "    return word_map[word]\n",
    "\n",
    "print(valuation(\"télévision\"))\n",
    "print(valuation(\"Poupipou\"))"
   ]
  },
  {
   "cell_type": "markdown",
   "metadata": {},
   "source": [
    "For each word in the sentence (that has been cleaned), a valuation is associated to it and put in the vector."
   ]
  },
  {
   "cell_type": "code",
   "execution_count": 4,
   "metadata": {},
   "outputs": [],
   "source": [
    "def vectorize(sentence : list) -> np.array:\n",
    "    v = np.zeros((1, len(sentence)))\n",
    "    \n",
    "    for i, word in enumerate(sentence):\n",
    "        v[0][i] = valuation(word)\n",
    "    \n",
    "    return v"
   ]
  },
  {
   "cell_type": "code",
   "execution_count": 5,
   "metadata": {},
   "outputs": [],
   "source": [
    "%%script false --no-raise-error\n",
    "# ^ Prevents execution\n",
    "sentence = \"Elijah, allume la télévision\"\n",
    "stoplist = [\"elijah\", \"le\", \"la\", \"de\", \"?\", \"du\", \"les\"]\n",
    "words = prepare_query(sentence, stoplist)\n",
    "\n",
    "\n",
    "v1 = vectorize(prepare_query(\"Elijah, allume la télévision\", stoplist))\n",
    "v2 = vectorize(prepare_query(\"Elijah, éteins la télévision\", stoplist))\n",
    "v3 = vectorize(prepare_query(\"Elijah, allume la télé\", stoplist))\n",
    "v4 = vectorize(prepare_query(\"Elijah, éteins la télé\", stoplist))\n",
    "\n",
    "print(np.linalg.norm(v1 - v2))\n",
    "print(np.linalg.norm(v1 - v3))\n",
    "print(np.linalg.norm(v1 - v4))\n",
    "print(np.linalg.norm(v2 - v3))\n",
    "print(np.linalg.norm(v2 - v4))\n",
    "print(np.linalg.norm(v3 - v4))"
   ]
  },
  {
   "cell_type": "markdown",
   "metadata": {
    "tags": []
   },
   "source": [
    "#### Using new rules\n",
    "\n",
    "As expected, since values are chosen randomly, similar words can't be linked together and give values that are very different. \n",
    "In order to link new words with older words, a distance needs to be computed.\n",
    "There are three types of word:\n",
    "- **New words**, that have nothing to do with the others\n",
    "    - These words need to have a random value\n",
    "- **Abreviated words**\n",
    "    - These words must have the same value as the word they represent.\n",
    "- **Alternative words**\n",
    "    - These words need not to change the barycenter of the class they belong.\n",
    "    - To simplify things, alternative words will follow abreviated words' rules.\n",
    "    \n",
    "    \n",
    "##### How to find synonyms ?\n",
    "\n",
    "Usage of a synonym structure (hashed map) and a set of base words\n",
    "\n",
    "![](commands-doc/synonyms.svg)\n",
    "\n",
    "This structure should be filled by an API (synonymes.net ?)\n",
    "\n",
    "\n"
   ]
  },
  {
   "cell_type": "code",
   "execution_count": 6,
   "metadata": {},
   "outputs": [],
   "source": [
    "base_words = set([\"allumer\", \"éteindre\", \"télévision\"])\n",
    "\n",
    "synonyms_dict = {\n",
    "    \"allumer\": [],\n",
    "    \"éteindre\": [],\n",
    "    \"télévision\": [\"télé\", \"écran\"],\n",
    "    \"télé\": [\"télévision\"],\n",
    "    \"écran\" : [\"télévision\"]\n",
    "}"
   ]
  },
  {
   "cell_type": "markdown",
   "metadata": {},
   "source": [
    "Checking if the word is an abreviation or a synonym of another. Basically, an abreviate is a synonym. There is no use of the first function anymore, but we'll keep it for the sake of it."
   ]
  },
  {
   "cell_type": "code",
   "execution_count": 7,
   "metadata": {},
   "outputs": [],
   "source": [
    "def abreviate(word: str) -> str:\n",
    "    \n",
    "    for ws in set(word_map.keys()):\n",
    "        if word in ws: # if the word is a substring of a key\n",
    "            return ws\n",
    "    \n",
    "    return None\n",
    "\n",
    "def synonym(word: str) -> str: \n",
    "    \n",
    "    if word in base_words:\n",
    "        return word\n",
    "    \n",
    "    if word in set(synonyms_dict.keys()):\n",
    "        return synonyms_dict[word][0]\n",
    "    \n",
    "    # Find possible synonyms here and put \n",
    "    # \n",
    "    \n",
    "    return None"
   ]
  },
  {
   "cell_type": "markdown",
   "metadata": {},
   "source": [
    "New valuation calculation"
   ]
  },
  {
   "cell_type": "code",
   "execution_count": 8,
   "metadata": {},
   "outputs": [
    {
     "name": "stdout",
     "output_type": "stream",
     "text": [
      "0.52\n",
      "0.52\n",
      "0.52\n"
     ]
    }
   ],
   "source": [
    "def valuation(word : str) -> float:\n",
    "    if word in word_map: # Word exists\n",
    "        return word_map[word]\n",
    "    \n",
    "    # New word\n",
    "    \n",
    "    abrev = abreviate(word)\n",
    "    syn  = synonym(word)\n",
    "    \n",
    "    if abrev: # The word is a synonym\n",
    "        word_map[word] = word_map[abrev]\n",
    "        return word_map[abrev]\n",
    "        \n",
    "    elif syn: # The word is an abreviation\n",
    "        word_map[word] = word_map[syn]\n",
    "        return word_map[syn]\n",
    "        \n",
    "    # the word is completely new\n",
    "    word_map[word] = (random.randrange(-max_range, max_range))/max_range\n",
    "    return word_map[word]\n",
    "\n",
    "print(valuation(\"télévision\"))\n",
    "print(valuation(\"télé\"))\n",
    "print(valuation(\"écran\"))"
   ]
  },
  {
   "cell_type": "code",
   "execution_count": 9,
   "metadata": {},
   "outputs": [
    {
     "name": "stdout",
     "output_type": "stream",
     "text": [
      "0.73\n",
      "0.0\n",
      "0.73\n",
      "0.73\n",
      "0.0\n",
      "0.73\n"
     ]
    }
   ],
   "source": [
    "sentence = \"Elijah, allume la télévision\"\n",
    "stoplist = [\"elijah\", \"le\", \"la\"]\n",
    "words = prepare_query(sentence, stoplist)\n",
    "\n",
    "\n",
    "v1 = vectorize(prepare_query(\"Elijah, allume la télévision\", stoplist))\n",
    "v2 = vectorize(prepare_query(\"Elijah, éteins la télévision\", stoplist))\n",
    "v3 = vectorize(prepare_query(\"Elijah, allume la télé\", stoplist))\n",
    "v4 = vectorize(prepare_query(\"Elijah, éteins la télé\", stoplist))\n",
    "\n",
    "print(np.linalg.norm(v1 - v2))\n",
    "print(np.linalg.norm(v1 - v3))\n",
    "print(np.linalg.norm(v1 - v4))\n",
    "print(np.linalg.norm(v2 - v3))\n",
    "print(np.linalg.norm(v2 - v4))\n",
    "print(np.linalg.norm(v3 - v4))"
   ]
  },
  {
   "cell_type": "markdown",
   "metadata": {},
   "source": [
    "##### Binding an answer to a vector"
   ]
  },
  {
   "cell_type": "code",
   "execution_count": 10,
   "metadata": {},
   "outputs": [
    {
     "name": "stdout",
     "output_type": "stream",
     "text": [
      "{\"Ok. J'allume la télévision.\": 0.52, \"Ok. J'éteins la télévision.\": 0.94, 'Voici la météo de demain : ': 1.09}\n"
     ]
    }
   ],
   "source": [
    "answers = dict()\n",
    "\n",
    "def bind_vector(sentence_vector : np.array, answers : dict, ans : str):\n",
    "    answers[ans] = np.round(np.linalg.norm(sentence_vector), 2)\n",
    "    \n",
    "def bind_question(question: str, answers : dict, ans : str):\n",
    "    vec = vectorize(prepare_query(question, stoplist))\n",
    "    bind_vector(vec, answers, ans)\n",
    "\n",
    "bind_question(\"Allume la télévision\", answers, \"Ok. J'allume la télévision.\")\n",
    "bind_question(\"Éteins la télévision\", answers, \"Ok. J'éteins la télévision.\")\n",
    "bind_question(\"Quelle est la météo de demain\", answers, \"Voici la météo de demain : \")\n",
    "\n",
    "print(answers)"
   ]
  },
  {
   "cell_type": "markdown",
   "metadata": {},
   "source": [
    "##### Finding the most fitting answer. \n",
    "\n",
    "We are going to use a priority queue in order to sort the answers by their distance to the query vector."
   ]
  },
  {
   "cell_type": "code",
   "execution_count": 11,
   "metadata": {},
   "outputs": [],
   "source": [
    "class pqueue:\n",
    "    \n",
    "    def __init__(self):\n",
    "        self.data = list() # (item, priority)\n",
    "    \n",
    "    def add(self, item, priority : float):\n",
    "        l = len(self.data)\n",
    "        \n",
    "        if l == 0:\n",
    "            self.data.insert(0, (item, priority))\n",
    "            return\n",
    "        \n",
    "        for i in range(l):\n",
    "            if self.data[i][1] > priority:\n",
    "                self.data.insert(i, (item, priority))\n",
    "                return\n",
    "                \n",
    "        self.data.insert(l, (item, priority))\n",
    "        \n",
    "    def __str__(self):\n",
    "        s = \"\"\n",
    "        \n",
    "        if len(self.data) == 0:\n",
    "            return \"Empty queue\"\n",
    "        \n",
    "        for item in self.data:\n",
    "            s += str(item) + \" \"\n",
    "        return s\n",
    "    \n",
    "    def __len__(self):\n",
    "        return len(self.data)\n",
    "    \n",
    "    def __getitem__(self, item):\n",
    "        return self.data[item]\n",
    "        "
   ]
  },
  {
   "cell_type": "code",
   "execution_count": 12,
   "metadata": {},
   "outputs": [],
   "source": [
    "%%script false --no-raise-error\n",
    "# pqueue test\n",
    "q = pqueue()\n",
    "q.add(\"hello\", 2)\n",
    "q.add(\"hi\", 4)\n",
    "q.add(\"bonjour\", -1)\n",
    "\n",
    "\n",
    "print(q)\n",
    "\n",
    "del q"
   ]
  },
  {
   "cell_type": "code",
   "execution_count": 13,
   "metadata": {},
   "outputs": [
    {
     "name": "stdout",
     "output_type": "stream",
     "text": [
      "(\"Ok. J'allume la télévision.\", 0.002) (\"Ok. J'éteins la télévision.\", 0.418) ('Voici la météo de demain : ', 0.568) \n",
      "0.988\n"
     ]
    }
   ],
   "source": [
    "def find_answers(query: str, answers : dict) -> (pqueue, float):\n",
    "    q = pqueue()\n",
    "    \n",
    "    v = vectorize(prepare_query(query, stoplist))\n",
    "    v = np.round(np.linalg.norm(v) ,3)\n",
    "    \n",
    "    psum = 0\n",
    "    \n",
    "    for ans, barycenter in answers.items():\n",
    "        priority = np.round(abs(barycenter - v), 3)\n",
    "        psum += priority\n",
    "        \n",
    "        q.add(ans, priority)\n",
    "    \n",
    "    return q, psum\n",
    "        \n",
    "result = find_answers(\"Allume la télé\", answers)\n",
    "\n",
    "print(result[0])\n",
    "print(result[1])"
   ]
  },
  {
   "cell_type": "markdown",
   "metadata": {
    "tags": []
   },
   "source": [
    "##### Selecting closest answer"
   ]
  },
  {
   "cell_type": "code",
   "execution_count": 14,
   "metadata": {},
   "outputs": [
    {
     "data": {
      "text/plain": [
       "\"Ok. J'allume la télévision.\""
      ]
     },
     "execution_count": 14,
     "metadata": {},
     "output_type": "execute_result"
    }
   ],
   "source": [
    "answer_threshold = 1\n",
    "\n",
    "def select_answer(q : pqueue, threshold = answer_threshold) -> str:\n",
    "    if q[0][1] > threshold:\n",
    "        return \"I did not understand the question\"\n",
    "    return q[0][0]\n",
    "    \n",
    "select_answer(result[0])"
   ]
  },
  {
   "cell_type": "markdown",
   "metadata": {},
   "source": [
    "##### Analyzing answer space\n",
    "\n",
    "Our space is a line. That means that all our answers are positionned on a line, which makes the space very limited."
   ]
  },
  {
   "cell_type": "code",
   "execution_count": 15,
   "metadata": {},
   "outputs": [
    {
     "name": "stdout",
     "output_type": "stream",
     "text": [
      "['télévision', 'éteindre', 'allumer', 'Poupipou', 'télé', 'écran', 'allume', 'éteins', 'quelle', 'est', 'météo', 'de', 'demain']\n",
      "[0.52, 0.385, 0.05, -0.29, 0.52, 0.52, 0.05, 0.78, -0.485, 0.36, -0.45, 0.735, 0.3]\n"
     ]
    },
    {
     "data": {
      "image/png": "[encoded data removed]",
      "text/plain": [
       "<Figure size 432x288 with 1 Axes>"
      ]
     },
     "metadata": {
      "needs_background": "light"
     },
     "output_type": "display_data"
    }
   ],
   "source": [
    "import matplotlib.pyplot as plt\n",
    "\n",
    "x = list(word_map.keys())\n",
    "y = list(word_map.values())\n",
    "\n",
    "xs = list()\n",
    "ys = list()\n",
    "\n",
    "print(x)\n",
    "print(y)\n",
    "\n",
    "q = pqueue()\n",
    "\n",
    "for i in range(len(x)):\n",
    "    q.add(x[i], y[i])\n",
    "    \n",
    "for i in range(len(x)):\n",
    "    xs.append(q[i][0])\n",
    "    ys.append(q[i][1])\n",
    "\n",
    "plt.scatter(xs, ys)\n",
    "plt.xlabel(\"Word\")\n",
    "plt.ylabel(\"Value\")\n",
    "\n",
    "plt.xticks(rotation=45)\n",
    "\n",
    "plt.show()"
   ]
  },
  {
   "cell_type": "markdown",
   "metadata": {},
   "source": [
    "As we can see, this way of representing data does not work. Some values that are unrelated have neighboring values, which makes it quite difficult to evaluate."
   ]
  },
  {
   "cell_type": "code",
   "execution_count": 16,
   "metadata": {},
   "outputs": [
    {
     "data": {
      "image/png": "[encoded data removed]",
      "text/plain": [
       "<Figure size 432x288 with 1 Axes>"
      ]
     },
     "metadata": {
      "needs_background": "light"
     },
     "output_type": "display_data"
    }
   ],
   "source": [
    "x = list(answers.keys())\n",
    "y = list(answers.values())\n",
    "\n",
    "xs = list()\n",
    "ys = list()\n",
    "\n",
    "q = pqueue()\n",
    "\n",
    "for i in range(len(x)):\n",
    "    q.add(x[i], y[i])\n",
    "    \n",
    "for i in range(len(x)):\n",
    "    xs.append(q[i][0])\n",
    "    ys.append(q[i][1])\n",
    "\n",
    "plt.scatter(xs, ys)\n",
    "plt.xlabel(\"Answer\")\n",
    "plt.ylabel(\"Value\")\n",
    "\n",
    "plt.xticks(rotation=45)\n",
    "\n",
    "plt.show()"
   ]
  },
  {
   "cell_type": "markdown",
   "metadata": {},
   "source": [
    "The answer space might be even worse and it could be really tight to determine the right answers, depending on the word value randomization. Thus, this method cannot be used in order to solve this problem."
   ]
  },
  {
   "cell_type": "markdown",
   "metadata": {},
   "source": [
    "#### Use of bag of words\n",
    "\n",
    "The principle of bag of words is to associate to a sentence an array of integers representing the histogram of the words used in the sentence. It needs a \"dictionnary\", a set of words that will be available in the bag of words.\n",
    "\n",
    "![](commands-doc/bag-of-words.svg)"
   ]
  },
  {
   "cell_type": "code",
   "execution_count": 25,
   "metadata": {},
   "outputs": [],
   "source": [
    "class bag_of_words:\n",
    "    \n",
    "    def __init__(self):\n",
    "        self.dictionnary = set()\n",
    "        self.order = dict()\n",
    "        \n",
    "        \n",
    "    def update(self, sentence: list): # Update BoW contents\n",
    "        for word in sentence:\n",
    "            if word not in self.dictionnary:\n",
    "                self.order[word] = len(self)\n",
    "                self.add(word)\n",
    "                \n",
    "    def define(self, vocabulary : list): # Define BoW contents\n",
    "        for sentence in vocabulary:\n",
    "            self.update(sentence)\n",
    "                    \n",
    "\n",
    "    \n",
    "    def add(self, word : str): \n",
    "        self.dictionnary.add(word)\n",
    "                \n",
    "    def new(self, sentence : list) -> np.array:\n",
    "        \n",
    "        self.update(sentence)\n",
    "        bag = np.zeros((len(self)), dtype=int)\n",
    "        \n",
    "        for word in sentence:\n",
    "            if word not in self.dictionnary:\n",
    "                raise Exception(f\"Warning: undefined token `{word}` in the bag of words.\")\n",
    "            \n",
    "            index = self.order[word]\n",
    "            bag[index] += 1\n",
    "    \n",
    "        \n",
    "        return bag\n",
    "        \n",
    "        \n",
    "    def __str__(self):\n",
    "        return self.dictionnary\n",
    "            \n",
    "    def __len__(self):\n",
    "        return len(self.dictionnary)\n",
    "        "
   ]
  },
  {
   "cell_type": "code",
   "execution_count": 26,
   "metadata": {},
   "outputs": [
    {
     "name": "stdout",
     "output_type": "stream",
     "text": [
      "[1 1 1 1 0 0 0 0 0]\n",
      "[1 0 0 0 1 1 1 0 0]\n",
      "[0 0 0 0 0 0 0 1 1]\n",
      "[0 1 0 0 0 0 0 0 0 1]\n"
     ]
    }
   ],
   "source": [
    "bow = bag_of_words()\n",
    "\n",
    "s1 = prepare_query(\"Allume la télévision de la chambre\", stoplist)\n",
    "s2 = prepare_query(\"Allume la télé du salon\", stoplist)\n",
    "s3 = prepare_query(\"Elijah, éteins le toaster\", stoplist)\n",
    "\n",
    "s4 = prepare_query(\"Elijah, rallume la télévision\", stoplist)\n",
    "# Define bow words\n",
    "bow.define([s1, s2, s3])\n",
    "\n",
    "b1 = bow.new(s1)\n",
    "b2 = bow.new(s2)\n",
    "b3 = bow.new(s3)\n",
    "\n",
    "b4 = bow.new(s4)\n",
    "\n",
    "print(b1)\n",
    "print(b2)\n",
    "print(b3)\n",
    "print(b4)\n",
    "\n"
   ]
  },
  {
   "cell_type": "markdown",
   "metadata": {},
   "source": [
    "Now that the bag of word is working, we can try and see if this could work. The new verification method should be the following.\n",
    "\n",
    "![](commands-doc/bow-check.svg)"
   ]
  },
  {
   "cell_type": "code",
   "execution_count": 29,
   "metadata": {},
   "outputs": [
    {
     "name": "stdout",
     "output_type": "stream",
     "text": [
      "0.0\n",
      "6.0\n",
      "6.0\n",
      "6.0\n",
      "4.0\n",
      "=====\n",
      "100.0\n",
      "33.33333333333333\n",
      "33.33333333333333\n",
      "33.33333333333333\n",
      "60.0\n"
     ]
    }
   ],
   "source": [
    "def distance(v1 : np.array, v2: np.array) -> int:\n",
    "    \n",
    "    \"\"\"\n",
    "    Computes a difference vector of dim = max(v1, v2), then returns its norm\n",
    "    \"\"\"\n",
    "    \n",
    "    m = max(len(v1), len(v2))\n",
    "    \n",
    "    w1 = np.zeros(m)\n",
    "    w2 = np.zeros(m)\n",
    "    \n",
    "    w1[:len(v1)] = v1\n",
    "    w2[:len(v2)] = v2\n",
    "    \n",
    "    return (np.abs(w1 - w2)).sum()\n",
    "\n",
    "def similitude(v1 : np.array, v2 : np.array) -> float:\n",
    "    m = max(len(v1), len(v2))\n",
    "    return (m - distance(v1, v2))/m * 100\n",
    "\n",
    "print(distance(b1, b1))\n",
    "print(distance(b1, b2))\n",
    "print(distance(b1, b3))\n",
    "print(distance(b2, b3))\n",
    "print(distance(b1, b4))\n",
    "\n",
    "print(\"=====\")\n",
    "\n",
    "print(similitude(b1, b1))\n",
    "print(similitude(b1, b2))\n",
    "print(similitude(b1, b3))\n",
    "print(similitude(b2, b3))\n",
    "print(similitude(b1, b4))"
   ]
  },
  {
   "cell_type": "markdown",
   "metadata": {},
   "source": [
    "There's an issue with this way of computing the distance. For elements that are really close grammatically but not semantically, their distance is close too but shouldn't.\n",
    "\n",
    "For example if v1 = \"Allume la télévision\"\n",
    "\n",
    "|v2|Distance|\n",
    "|--|--------|\n",
    "|\"Allume la télévision\"|0|\n",
    "|\"Allume la télé\"|1|\n",
    "|\"Allume la chambre\"|1|\n",
    "|\"Éteins la télé\"|2|\n",
    "\n",
    "For the second one, \"Allume la chambre\" shouldn't be as close as \"Allume la télé\" since it's not referring as the same object, whereas \"télé\" refers to \"télévision\"."
   ]
  }
 ],
 "metadata": {
  "interpreter": {
   "hash": "e7370f93d1d0cde622a1f8e1c04877d8463912d04d973331ad4851f04de6915a"
  },
  "kernelspec": {
   "display_name": "Python 3 (ipykernel)",
   "language": "python",
   "name": "python3"
  },
  "language_info": {
   "codemirror_mode": {
    "name": "ipython",
    "version": 3
   },
   "file_extension": ".py",
   "mimetype": "text/x-python",
   "name": "python",
   "nbconvert_exporter": "python",
   "pygments_lexer": "ipython3",
   "version": "3.10.1"
  }
 },
 "nbformat": 4,
 "nbformat_minor": 4
}
